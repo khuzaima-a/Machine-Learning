{
 "cells": [
  {
   "cell_type": "markdown",
   "metadata": {},
   "source": [
    "# OCR SYSTEM"
   ]
  },
  {
   "cell_type": "markdown",
   "metadata": {},
   "source": [
    "#### Import Libraries"
   ]
  },
  {
   "cell_type": "code",
   "execution_count": 4,
   "metadata": {},
   "outputs": [],
   "source": [
    "%matplotlib inline\n",
    "import numpy as np\n",
    "from matplotlib import pyplot as plt\n",
    "import pandas as pd"
   ]
  },
  {
   "cell_type": "markdown",
   "metadata": {},
   "source": [
    "#### Import sample images"
   ]
  },
  {
   "cell_type": "code",
   "execution_count": 5,
   "metadata": {},
   "outputs": [
    {
     "data": {
      "image/png": "[encoded data removed]",
      "text/plain": [
       "<Figure size 640x480 with 2 Axes>"
      ]
     },
     "metadata": {},
     "output_type": "display_data"
    }
   ],
   "source": [
    "img2=np.array([0,0,0,0,0,0,0,0,0,0,0,0,0,0,0,0,0,0,1,1,1,0,0,0,0,0,0,0,0,0,0,0,0,1,1,0,0,0,0,0,0,0,0,\n",
    "0,0,1,0,0,1,0,0,0,0,0,0,0,0,0,0,0,1,1,0,0,1,0,0,0,0,0,0,0,0,0,0,0,1,1,0,0,1,0,0,0,0,0,0,0,0,0,0,0,1,\n",
    "1,1,0,1,0,0,0,0,0,0,0,0,0,0,1,1,0,1,0,1,0,0,0,0,0,0,0,0,0,0,1,0,0,1,0,1,0,0,0,0,0,0,0,0,0,1,0,0,0,1,\n",
    "0,1,1,1,1,1,1,1,1,1,1,1,0,0,0,1,1,0,0,0,0,0,0,0,0,0,0,0,0,0,0,0,1,0,0,0,0,0,0,0,0,0,0,0,0,0,0,0,1,0,\n",
    "0,0,0,0,0,0,0,0,0,0,0,0,0,0,1,0,0,0,0,0,0,0,0,0,0,0,0,0,0,0,1,0,0,0,0,0,0,0,0,0,0,0,0,0,0,0,1,0,0,0,\n",
    "0,0,0,0,0,0,0,0,0,0,0,0,0],dtype=np.uint8)\n",
    "\n",
    "img4=np.array([0,0,0,0,0,0,0,0,0,0,0,0,0,0,0,0,0,0,0,0,0,0,0,0,0,0,0,0,0,0,0,0,0,0,0,0,0,0,0,1,0,0,0,\n",
    "0,0,0,0,0,1,1,1,1,1,1,1,1,0,0,0,0,0,0,0,0,0,0,0,0,0,0,0,1,0,0,0,0,0,0,0,1,0,0,0,0,0,0,0,1,0,0,0,0,0,\n",
    "1,1,1,0,0,0,0,0,0,1,0,0,0,1,1,1,0,0,0,0,0,0,0,0,0,1,0,0,1,1,0,0,0,0,0,0,0,0,0,0,0,1,1,1,0,0,0,0,0,0,\n",
    "0,0,1,1,1,1,1,1,0,0,0,0,0,0,0,0,0,1,1,0,0,0,1,0,0,0,0,0,0,0,0,0,0,0,0,0,0,0,1,0,0,0,0,0,0,0,0,0,0,0,\n",
    "0,0,0,1,1,0,0,0,0,0,0,0,0,0,0,0,0,0,0,0,1,0,0,0,0,0,0,0,0,0,0,0,0,0,0,0,0,0,0,0,0,0,0,0,0,0,0,0,0,0,\n",
    "0,0,0,0,0,0,0,0,0,0,0,0,0],dtype=np.uint8)\n",
    "\n",
    "img = np.reshape(img4,(16,16),order= 'F')\n",
    "img1 = np.reshape(img2,(16,16),order= 'F')\n",
    "\n",
    "fig, axes = plt.subplots(1, 2)\n",
    "axes[0].imshow(img)\n",
    "axes[0].set_title('Image of 4')\n",
    "axes[1].imshow(img1)\n",
    "axes[1].set_title('Image of 2')\n",
    "\n",
    "plt.tight_layout()\n",
    "\n",
    "plt.show()"
   ]
  },
  {
   "cell_type": "markdown",
   "metadata": {},
   "source": [
    "## Import Data from the Files"
   ]
  },
  {
   "cell_type": "markdown",
   "metadata": {},
   "source": [
    "#### Training Data"
   ]
  },
  {
   "cell_type": "code",
   "execution_count": 6,
   "metadata": {},
   "outputs": [
    {
     "name": "stdout",
     "output_type": "stream",
     "text": [
      "Shape of X_train :  (500, 256)\n",
      "Shape of y_train :  (500,)\n"
     ]
    }
   ],
   "source": [
    "#Your code here\n",
    "\n",
    "# Load Training data Features\n",
    "x_train = np.loadtxt(\"./trainX.txt\")\n",
    "print(\"Shape of X_train : \",x_train.shape)\n",
    "\n",
    "# LOad Training data Labels\n",
    "y_train = np.loadtxt(\"./trainY.txt\")\n",
    "print(\"Shape of y_train : \",y_train.shape)"
   ]
  },
  {
   "cell_type": "markdown",
   "metadata": {},
   "source": [
    "Expected Output <br>\n",
    "- Shape of X_train : (500, 256) <br>\n",
    "- Shape of y_train : (500,)"
   ]
  },
  {
   "cell_type": "markdown",
   "metadata": {},
   "source": [
    "### Testing Data"
   ]
  },
  {
   "cell_type": "code",
   "execution_count": 7,
   "metadata": {},
   "outputs": [
    {
     "name": "stdout",
     "output_type": "stream",
     "text": [
      "Shape of X_test :  (100, 256)\n",
      "Shape of y_test :  (100,)\n"
     ]
    }
   ],
   "source": [
    "#Your code here\n",
    "\n",
    "# Load testing data features (inputs)\n",
    "x_test = np.loadtxt(\"./testX.txt\")\n",
    "print(\"Shape of X_test : \",x_test.shape)\n",
    "\n",
    "# Load testing data labels (output)\n",
    "y_test = np.loadtxt(\"./testY.txt\")\n",
    "print(\"Shape of y_test : \",y_test.shape)"
   ]
  },
  {
   "cell_type": "markdown",
   "metadata": {},
   "source": [
    "Expected Output <br>\n",
    "- Shape of X_train : (100, 256) <br>\n",
    "- Shape of y_train : (100,)\n"
   ]
  },
  {
   "cell_type": "markdown",
   "metadata": {},
   "source": [
    "### Dividing Data W.R.T its Classes"
   ]
  },
  {
   "cell_type": "markdown",
   "metadata": {},
   "source": [
    "##### Training Data"
   ]
  },
  {
   "cell_type": "code",
   "execution_count": 8,
   "metadata": {},
   "outputs": [],
   "source": [
    "#AS we know first 250 images are of 2 so we will take first 250 images from X_train\n",
    "#your code here\n",
    "\n",
    "# First 250 images belong to class 2\n",
    "img2_X_train = x_train[0:250]\n",
    "\n",
    "# Next 250 images belong to class 4\n",
    "img4_X_train = x_train[250:500]\n"
   ]
  },
  {
   "cell_type": "markdown",
   "metadata": {},
   "source": [
    "##### Another way\n",
    "You can coment the below code if you dont want to try this effective way and will use the above code to divide the data into classes"
   ]
  },
  {
   "cell_type": "code",
   "execution_count": 9,
   "metadata": {},
   "outputs": [
    {
     "name": "stdout",
     "output_type": "stream",
     "text": [
      "Shape of X_train :  (250, 256)\n",
      "Shape of y_train :  (250, 256)\n"
     ]
    }
   ],
   "source": [
    "#But in case if we didn't know that first 250 images are of 2 then we can use this code\n",
    "#This img2_X_train will contain only only those images from X_train which have corespondong label of 2 in Y_train\n",
    "# img2_X_train = \n",
    "# img4_X_train = \n",
    "print(\"Shape of X_train : \",img2_X_train.shape)\n",
    "print(\"Shape of y_train : \",img4_X_train.shape)"
   ]
  },
  {
   "cell_type": "markdown",
   "metadata": {},
   "source": [
    "Expected Output <br>\n",
    "- Shape of X_train : (250, 256) <br>\n",
    "- Shape of y_train : (250, 256)\n"
   ]
  },
  {
   "cell_type": "markdown",
   "metadata": {},
   "source": [
    "##### Testing Data"
   ]
  },
  {
   "cell_type": "code",
   "execution_count": 10,
   "metadata": {},
   "outputs": [
    {
     "name": "stdout",
     "output_type": "stream",
     "text": [
      "Shape of X_test :  (50, 256)\n",
      "Shape of y_test (50, 256)\n"
     ]
    }
   ],
   "source": [
    "# Your code here\n",
    "\n",
    "# First 50 images belong to class 2 in testing data\n",
    "img2_X_test = x_test[0:50]\n",
    "\n",
    "# Next 50 images belong to class 4 in testing data\n",
    "img4_X_test = x_test[50:100]\n",
    "\n",
    "print(\"Shape of X_test : \",img2_X_test.shape)\n",
    "print(\"Shape of y_test\" ,img4_X_test.shape)"
   ]
  },
  {
   "cell_type": "markdown",
   "metadata": {},
   "source": [
    "Expected Output <br>\n",
    "- Shape of X_train : (50, 256) <br>\n",
    "- Shape of y_train : (50, 256)\n"
   ]
  },
  {
   "cell_type": "markdown",
   "metadata": {},
   "source": [
    "### Finding the Probabilities"
   ]
  },
  {
   "cell_type": "markdown",
   "metadata": {},
   "source": [
    "### Training Data"
   ]
  },
  {
   "cell_type": "markdown",
   "metadata": {},
   "source": [
    "##### Probabailty of 1s and 0s"
   ]
  },
  {
   "cell_type": "code",
   "execution_count": 11,
   "metadata": {},
   "outputs": [
    {
     "name": "stdout",
     "output_type": "stream",
     "text": [
      "(256,)\n",
      "(256,)\n",
      "(256,)\n",
      "(256,)\n"
     ]
    }
   ],
   "source": [
    "# Calculated Probabilites of 1's and 0's in for both classses\n",
    "\n",
    "img2_one_prob = img2_X_train.sum(axis=0)/img2_X_train.shape[0]\n",
    "img2_zero_prob = 1 - img2_one_prob\n",
    "img4_one_prob = img4_X_train.sum(axis=0)/img4_X_train.shape[0]\n",
    "img4_zero_prob = 1 - img4_one_prob\n",
    "\n",
    "print(img2_one_prob.shape)\n",
    "print(img2_zero_prob.shape)\n",
    "print(img4_one_prob.shape)\n",
    "print(img4_zero_prob.shape)"
   ]
  },
  {
   "cell_type": "markdown",
   "metadata": {},
   "source": [
    "Expected Output <br>\n",
    "- (256,)\n",
    "- (256,)\n",
    "- (256,)\n",
    "- (256,)\n"
   ]
  },
  {
   "cell_type": "markdown",
   "metadata": {},
   "source": [
    "#### Class Probabilities"
   ]
  },
  {
   "cell_type": "code",
   "execution_count": 12,
   "metadata": {},
   "outputs": [
    {
     "name": "stdout",
     "output_type": "stream",
     "text": [
      "Probability of 2 :  0.5\n",
      "Probability of 4 :  0.5\n"
     ]
    }
   ],
   "source": [
    "# Your code here\n",
    "\n",
    "# Calculated Prob of class 2\n",
    "two_prob = (np.count_nonzero(y_train == 2))/ y_train.shape[0]\n",
    "print(\"Probability of 2 : \",two_prob)\n",
    "\n",
    "# Calculated Prob of class 4\n",
    "four_prob = (np.count_nonzero(y_train == 4))/ y_train.shape[0]\n",
    "print(\"Probability of 4 : \",four_prob)\n",
    "\n",
    "\n"
   ]
  },
  {
   "cell_type": "markdown",
   "metadata": {},
   "source": [
    "#### Predictions"
   ]
  },
  {
   "cell_type": "code",
   "execution_count": 13,
   "metadata": {},
   "outputs": [],
   "source": [
    "# Your code here\n",
    "\n",
    "\n",
    "# Function that will calculate probabilty of class for an input\n",
    "def calculate_class_prob(record, class_one_prob, class_zero_prob, class_prob):\n",
    "    prob = class_prob\n",
    "    for i in range(len(record)):\n",
    "        if record[i] == 1:\n",
    "            prob *= class_one_prob[i]\n",
    "        else:\n",
    "            prob *= class_zero_prob[i]\n",
    "    return prob\n",
    "\n",
    "# Array to store the predicted classes\n",
    "predictions = np.zeros(x_train.shape[0], dtype=int)\n",
    "\n",
    "# Calculated Probabilty of each Image of training data\n",
    "for i in range(x_train.shape[0]):\n",
    "    record = x_train[i]\n",
    "    prob_class2 = calculate_class_prob(record, img2_one_prob, img2_zero_prob, two_prob)\n",
    "    prob_class4 = calculate_class_prob(record, img4_one_prob, img4_zero_prob, four_prob)\n",
    "    \n",
    "    # Class having greater Prob will be predicted the class of that image.\n",
    "    if prob_class2 > prob_class4:\n",
    "        predictions[i] = 2\n",
    "    else:\n",
    "        predictions[i] = 4"
   ]
  },
  {
   "cell_type": "markdown",
   "metadata": {},
   "source": [
    "#### Overall Accuracy"
   ]
  },
  {
   "cell_type": "code",
   "execution_count": 14,
   "metadata": {},
   "outputs": [
    {
     "name": "stdout",
     "output_type": "stream",
     "text": [
      "TP = 249 FP = 2\n",
      "FN = 1 TN = 248\n",
      "\n",
      "Overall Accuracy =  0.994\n"
     ]
    }
   ],
   "source": [
    "# # Your code here\n",
    "\n",
    "# Calculate Tp, tn, fp, fn to calculate accuracy\n",
    "\n",
    "tp = 0 #pos = 2, neg = 4\n",
    "tn = 0\n",
    "fp = 0\n",
    "fn = 0\n",
    "\n",
    "for i in range(len(predictions)):\n",
    "    if(predictions[i] == y_train[i] and predictions[i] == 2):\n",
    "        tp += 1\n",
    "    elif(predictions[i] != y_train[i] and y_train[i] == 4):\n",
    "        fp += 1\n",
    "    elif(predictions[i] == y_train[i] and predictions[i] == 4):\n",
    "        tn += 1\n",
    "    elif(predictions[i] != y_train[i] and y_train[i] == 2):\n",
    "        fn += 1\n",
    "\n",
    "print(f'TP = {tp} FP = {fp}')\n",
    "print(f'FN = {fn} TN = {tn}')\n",
    "\n",
    "# Calculated Accuracy\n",
    "\n",
    "overall_Accuracy = (tp + tn) / (tp + tn + fp + fn)\n",
    "print(\"\\nOverall Accuracy = \", overall_Accuracy)"
   ]
  },
  {
   "cell_type": "markdown",
   "metadata": {},
   "source": [
    "Expected Output \n",
    "<br><br>\n",
    "**Confusion Matrix**\n",
    "<br>\n",
    "TP =  248 \tFP =  4\n",
    "<br>\n",
    "FN =  2 \tTN =  246\n",
    "<br>\n",
    "- Overall Accuracy =  0.988"
   ]
  },
  {
   "cell_type": "markdown",
   "metadata": {},
   "source": [
    "#### Classwise Accuracy"
   ]
  },
  {
   "cell_type": "code",
   "execution_count": 15,
   "metadata": {},
   "outputs": [
    {
     "name": "stdout",
     "output_type": "stream",
     "text": [
      "Total accuracy of Training data given class 2:  0.996\n",
      "Total accuracy of Training data given class 4:  0.992\n"
     ]
    }
   ],
   "source": [
    "# Your code here\n",
    "\n",
    "class2_train_total_accuracy = tp / (tp + fn)\n",
    "class4_train_total_accuracy = tn / (tn + fp)\n",
    "\n",
    "print(\"Total accuracy of Training data given class 2: \", class2_train_total_accuracy)\n",
    "print(\"Total accuracy of Training data given class 4: \" , class4_train_total_accuracy)"
   ]
  },
  {
   "cell_type": "markdown",
   "metadata": {},
   "source": [
    "Expected Output <br>\n",
    "\n",
    "- Total accuracy of Training data given class 2:  0.984\n",
    "<br>\n",
    "- Total accuracy of Training data given class 4:  0.992"
   ]
  },
  {
   "cell_type": "markdown",
   "metadata": {},
   "source": [
    "### FOR TESTING DATA"
   ]
  },
  {
   "cell_type": "markdown",
   "metadata": {},
   "source": [
    "##### Probabailty of 1s and 0s"
   ]
  },
  {
   "cell_type": "code",
   "execution_count": 16,
   "metadata": {},
   "outputs": [
    {
     "name": "stdout",
     "output_type": "stream",
     "text": [
      "(256,)\n",
      "(256,)\n",
      "(256,)\n",
      "(256,)\n"
     ]
    }
   ],
   "source": [
    "# Calculated Probabilites of 1's and 0's in for both classses\n",
    "\n",
    "img2_one_prob = img2_X_test.sum(axis=0)/img2_X_train.shape[0]\n",
    "img2_zero_prob = 1 - img2_one_prob\n",
    "img4_one_prob = img4_X_test.sum(axis=0)/img4_X_train.shape[0]\n",
    "img4_zero_prob = 1 - img4_one_prob\n",
    "\n",
    "print(img2_one_prob.shape)\n",
    "print(img2_zero_prob.shape)\n",
    "print(img4_one_prob.shape)\n",
    "print(img4_zero_prob.shape)"
   ]
  },
  {
   "cell_type": "markdown",
   "metadata": {},
   "source": [
    "#### Class Probabilities"
   ]
  },
  {
   "cell_type": "code",
   "execution_count": 17,
   "metadata": {},
   "outputs": [
    {
     "name": "stdout",
     "output_type": "stream",
     "text": [
      "Probability of 2 :  0.5\n",
      "Probability of 4 :  0.5\n"
     ]
    }
   ],
   "source": [
    "# your code here\n",
    "\n",
    "# Calculated Prob of class 2\n",
    "two_prob = (np.count_nonzero(y_test == 2))/ y_test.shape[0]\n",
    "print(\"Probability of 2 : \",two_prob)\n",
    "\n",
    "# Calculated Prob of class 4\n",
    "four_prob = (np.count_nonzero(y_test == 4))/ y_test.shape[0]\n",
    "print(\"Probability of 4 : \",four_prob)\n"
   ]
  },
  {
   "cell_type": "markdown",
   "metadata": {},
   "source": [
    "#### Predictions"
   ]
  },
  {
   "cell_type": "code",
   "execution_count": 18,
   "metadata": {},
   "outputs": [],
   "source": [
    "# your code here\n",
    "\n",
    "predictions = np.zeros(x_test.shape[0], dtype=int)\n",
    "\n",
    "# Calculated Probabilty of each Image of training data\n",
    "for i in range(x_test.shape[0]):\n",
    "    record = x_test[i]\n",
    "    prob_class2 = calculate_class_prob(record, img2_one_prob, img2_zero_prob, two_prob)\n",
    "    prob_class4 = calculate_class_prob(record, img4_one_prob, img4_zero_prob, four_prob)\n",
    "    if prob_class2 > prob_class4:\n",
    "        predictions[i] = 2\n",
    "    else:\n",
    "        predictions[i] = 4\n",
    "\n"
   ]
  },
  {
   "cell_type": "markdown",
   "metadata": {},
   "source": [
    "#### Classwise Accuracy"
   ]
  },
  {
   "cell_type": "code",
   "execution_count": 19,
   "metadata": {},
   "outputs": [
    {
     "name": "stdout",
     "output_type": "stream",
     "text": [
      "Total accuracy of Testing data given class 2:  1.0\n",
      "Total accuracy of Testing data given class 4:  1.0\n"
     ]
    }
   ],
   "source": [
    "# your code here\n",
    "\n",
    "# Calcualated tp, tn, fp, fn\n",
    "tp = 0 #pos = 2, neg = 4\n",
    "tn = 0\n",
    "fp = 0\n",
    "fn = 0\n",
    "\n",
    "for i in range(len(predictions)):\n",
    "    if(predictions[i] == y_test[i] and predictions[i] == 2):\n",
    "        tp += 1\n",
    "    elif(predictions[i] != y_test[i] and y_test[i] == 4):\n",
    "        fp += 1\n",
    "    elif(predictions[i] == y_test[i] and predictions[i] == 4):\n",
    "        tn += 1\n",
    "    elif(predictions[i] != y_test[i] and y_test[i] == 2):\n",
    "        fn += 1\n",
    "\n",
    "class2_test_total_accuracy = tp / (tp + fn)\n",
    "class4_test_total_accuracy = tn / (tn + fp)\n",
    "\n",
    "# Accuracy of both classes \n",
    "\n",
    "print(\"Total accuracy of Testing data given class 2: \", class2_test_total_accuracy)\n",
    "print(\"Total accuracy of Testing data given class 4: \", class4_test_total_accuracy)"
   ]
  },
  {
   "cell_type": "markdown",
   "metadata": {},
   "source": [
    "Expected Output <br>\n",
    "\n",
    "- Total accuracy of Testing data given class 2:  1.0\n",
    "<br>\n",
    "- Total accuracy of Testing data given class 4:  1.0"
   ]
  },
  {
   "cell_type": "markdown",
   "metadata": {},
   "source": [
    "#### Overall Accuracy"
   ]
  },
  {
   "cell_type": "code",
   "execution_count": 20,
   "metadata": {},
   "outputs": [
    {
     "name": "stdout",
     "output_type": "stream",
     "text": [
      "TP = 50 FP = 0\n",
      "FN = 0 TN = 50\n",
      "\n",
      "Overall Accuracy =  1.0\n"
     ]
    }
   ],
   "source": [
    "# your code here \n",
    "\n",
    "print(f'TP = {tp} FP = {fp}')\n",
    "print(f'FN = {fn} TN = {tn}')\n",
    "\n",
    "# Overall accuracy\n",
    "\n",
    "overall_Accuracy = (tp + tn) / (tp + tn + fp + fn)\n",
    "print(\"\\nOverall Accuracy = \", overall_Accuracy)\n",
    "\n",
    "\n"
   ]
  },
  {
   "cell_type": "markdown",
   "metadata": {},
   "source": [
    "Expected Output \n",
    "<br><br>\n",
    "**Confusion Matrix**\n",
    "<br>\n",
    "TP =  50 \tFP =  0\n",
    "<br>\n",
    "FN =  0 \tTN =  50\n",
    "<br>\n",
    "- Overall Accuracy =  1.0"
   ]
  },
  {
   "cell_type": "markdown",
   "metadata": {},
   "source": [
    "### Plot your Test pixels/features in form of image to correctly identify whether our model is giving correct results"
   ]
  },
  {
   "cell_type": "markdown",
   "metadata": {},
   "source": [
    "2 plots for each class"
   ]
  },
  {
   "cell_type": "code",
   "execution_count": 21,
   "metadata": {},
   "outputs": [
    {
     "name": "stdout",
     "output_type": "stream",
     "text": [
      "Predicted :  2\n"
     ]
    },
    {
     "data": {
      "text/plain": [
       "<matplotlib.image.AxesImage at 0x24db8cf5960>"
      ]
     },
     "execution_count": 21,
     "metadata": {},
     "output_type": "execute_result"
    },
    {
     "data": {
      "image/png": "[encoded data removed]",
      "text/plain": [
       "<Figure size 640x480 with 1 Axes>"
      ]
     },
     "metadata": {},
     "output_type": "display_data"
    }
   ],
   "source": [
    "import random\n",
    "\n",
    "# Take a random image from testing data, and plot that and then \n",
    "# checked what we predicted that image to be \n",
    "\n",
    "index = random.randint(0,50)\n",
    "print(\"Predicted : \",predictions[index])\n",
    "img = np.reshape(img2_X_test[index],(16,16),order= 'F')\n",
    "plt.imshow(img)"
   ]
  },
  {
   "cell_type": "code",
   "execution_count": 22,
   "metadata": {},
   "outputs": [
    {
     "name": "stdout",
     "output_type": "stream",
     "text": [
      "Predicted :  2\n"
     ]
    },
    {
     "data": {
      "text/plain": [
       "<matplotlib.image.AxesImage at 0x24db997cfa0>"
      ]
     },
     "execution_count": 22,
     "metadata": {},
     "output_type": "execute_result"
    },
    {
     "data": {
      "image/png": "[encoded data removed]",
      "text/plain": [
       "<Figure size 640x480 with 1 Axes>"
      ]
     },
     "metadata": {},
     "output_type": "display_data"
    }
   ],
   "source": [
    "# Take a random image from testing data, and plot that and then \n",
    "# checked what we predicted that image to be \n",
    "\n",
    "index = random.randint(0,50)\n",
    "print(\"Predicted : \",predictions[index])\n",
    "img = np.reshape(img2_X_test[index],(16,16),order= 'F')\n",
    "plt.imshow(img)"
   ]
  },
  {
   "cell_type": "code",
   "execution_count": 23,
   "metadata": {},
   "outputs": [
    {
     "name": "stdout",
     "output_type": "stream",
     "text": [
      "Predicted :  4\n"
     ]
    },
    {
     "data": {
      "text/plain": [
       "<matplotlib.image.AxesImage at 0x24db99fc1c0>"
      ]
     },
     "execution_count": 23,
     "metadata": {},
     "output_type": "execute_result"
    },
    {
     "data": {
      "image/png": "[encoded data removed]",
      "text/plain": [
       "<Figure size 640x480 with 1 Axes>"
      ]
     },
     "metadata": {},
     "output_type": "display_data"
    }
   ],
   "source": [
    "# Take a random image from testing data, and plot that and then \n",
    "# checked what we predicted that image to be \n",
    "\n",
    "index = random.randint(0,50)\n",
    "print(\"Predicted : \",predictions[index+img2_X_test.shape[0]])\n",
    "img = np.reshape(img4_X_test[index],(16,16),order= 'F')\n",
    "plt.imshow(img)"
   ]
  },
  {
   "cell_type": "code",
   "execution_count": 24,
   "metadata": {},
   "outputs": [
    {
     "name": "stdout",
     "output_type": "stream",
     "text": [
      "Predicted :  4\n"
     ]
    },
    {
     "data": {
      "text/plain": [
       "<matplotlib.image.AxesImage at 0x24db9a6b160>"
      ]
     },
     "execution_count": 24,
     "metadata": {},
     "output_type": "execute_result"
    },
    {
     "data": {
      "image/png": "[encoded data removed]",
      "text/plain": [
       "<Figure size 640x480 with 1 Axes>"
      ]
     },
     "metadata": {},
     "output_type": "display_data"
    }
   ],
   "source": [
    "# Take a random image from testing data, and plot that and then \n",
    "# checked what we predicted that image to be \n",
    "\n",
    "index = random.randint(0,50)\n",
    "print(\"Predicted : \",predictions[index+img2_X_test.shape[0]])\n",
    "img = np.reshape(img4_X_test[index],(16,16),order= 'F')\n",
    "plt.imshow(img)"
   ]
  },
  {
   "cell_type": "markdown",
   "metadata": {},
   "source": [
    "Your Oppinion on the results about why naive bayes worked well for  this OCR\n",
    "and give one example where naive bayes can not be used\n"
   ]
  },
  {
   "cell_type": "markdown",
   "metadata": {},
   "source": [
    "Solution :  \n",
    "\n",
    "Naive Bayes worked well here because in this training example, probabilties of 0's and 1's\n",
    "for any single 0 and 1 is not equal 0. So, this is working well\n",
    "\n",
    "If the probability of any 0 or 1 is equal to 0, Naive Bayes will not work well there\n",
    "So, we cannot use where Naive Bayes where Probability of any 0 or 1 might be equal to 0."
   ]
  },
  {
   "cell_type": "markdown",
   "metadata": {},
   "source": []
  }
 ],
 "metadata": {
  "kernelspec": {
   "display_name": "Python 3 (ipykernel)",
   "language": "python",
   "name": "python3"
  },
  "language_info": {
   "codemirror_mode": {
    "name": "ipython",
    "version": 3
   },
   "file_extension": ".py",
   "mimetype": "text/x-python",
   "name": "python",
   "nbconvert_exporter": "python",
   "pygments_lexer": "ipython3",
   "version": "3.10.9"
  }
 },
 "nbformat": 4,
 "nbformat_minor": 2
}
