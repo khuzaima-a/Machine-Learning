{
 "cells": [
  {
   "cell_type": "markdown",
   "metadata": {},
   "source": [
    "# Contents\n",
    "## 1. What is value\n",
    "## 2. print () function\n",
    "## 3. type () function\n",
    "## 4. Variable\n",
    "## 5. Variable names and keywords\n",
    "## 6. Statements\n",
    "## 7. Operators and operands\n",
    "## 8. Order of operations\n",
    "## 9. String operations\n",
    "## 10. Asking the user for input\n",
    "## 11. Type Casting\n",
    "## 12. Comments"
   ]
  },
  {
   "cell_type": "markdown",
   "metadata": {},
   "source": [
    "# 1. Value"
   ]
  },
  {
   "cell_type": "markdown",
   "metadata": {},
   "source": [
    "### A value is one of the basic things a program works with, like a letter or a number.\n",
    "The values could be 1, 2.5, and 'Hello, World!'.\n",
    "\n",
    "These values belong to different types: 1 is an integer, 2.5 is float and \"Hello World\" is a string"
   ]
  },
  {
   "cell_type": "markdown",
   "metadata": {},
   "source": [
    "# 2. print() function"
   ]
  },
  {
   "cell_type": "markdown",
   "metadata": {},
   "source": [
    "We can print these values using print () function"
   ]
  },
  {
   "cell_type": "code",
   "execution_count": 1,
   "metadata": {},
   "outputs": [
    {
     "name": "stdout",
     "output_type": "stream",
     "text": [
      "1\n"
     ]
    }
   ],
   "source": [
    "print (1)"
   ]
  },
  {
   "cell_type": "code",
   "execution_count": 2,
   "metadata": {},
   "outputs": [
    {
     "name": "stdout",
     "output_type": "stream",
     "text": [
      "2.5\n"
     ]
    }
   ],
   "source": [
    "print(2.5)"
   ]
  },
  {
   "cell_type": "code",
   "execution_count": 3,
   "metadata": {},
   "outputs": [
    {
     "name": "stdout",
     "output_type": "stream",
     "text": [
      "hello world\n"
     ]
    }
   ],
   "source": [
    "print (\"hello world\")"
   ]
  },
  {
   "cell_type": "code",
   "execution_count": 4,
   "metadata": {},
   "outputs": [
    {
     "name": "stdout",
     "output_type": "stream",
     "text": [
      "hello world\n"
     ]
    }
   ],
   "source": [
    "print ('hello world')"
   ]
  },
  {
   "cell_type": "code",
   "execution_count": 1,
   "metadata": {},
   "outputs": [
    {
     "name": "stdout",
     "output_type": "stream",
     "text": [
      "1 2\n"
     ]
    }
   ],
   "source": [
    "# print two or more values using single statement\n",
    "print(1,2)\n"
   ]
  },
  {
   "cell_type": "code",
   "execution_count": 25,
   "metadata": {},
   "outputs": [
    {
     "name": "stdout",
     "output_type": "stream",
     "text": [
      "Pakistan\n"
     ]
    }
   ],
   "source": [
    "# print the name of your country\n",
    "print(\"Pakistan\")"
   ]
  },
  {
   "cell_type": "code",
   "execution_count": 26,
   "metadata": {},
   "outputs": [
    {
     "name": "stdout",
     "output_type": "stream",
     "text": [
      "10th June 2001\n"
     ]
    }
   ],
   "source": [
    "# print your date of birth\n",
    "print(\"10th June 2001\")\n"
   ]
  },
  {
   "cell_type": "code",
   "execution_count": 29,
   "metadata": {},
   "outputs": [
    {
     "name": "stdout",
     "output_type": "stream",
     "text": [
      "Khuzaima \n",
      "21 y/o \n",
      "6 feet\n"
     ]
    }
   ],
   "source": [
    "# print your name, age and height using one print statement\n",
    "print(\"Khuzaima \\n21 y/o \\n6 feet\")\n"
   ]
  },
  {
   "cell_type": "markdown",
   "metadata": {},
   "source": [
    "# 3. type() function"
   ]
  },
  {
   "cell_type": "markdown",
   "metadata": {},
   "source": [
    "If you are not sure what type a value has, the interpreter can tell you."
   ]
  },
  {
   "cell_type": "code",
   "execution_count": 12,
   "metadata": {},
   "outputs": [
    {
     "data": {
      "text/plain": [
       "int"
      ]
     },
     "execution_count": 12,
     "metadata": {},
     "output_type": "execute_result"
    }
   ],
   "source": [
    "type(1)"
   ]
  },
  {
   "cell_type": "code",
   "execution_count": 13,
   "metadata": {},
   "outputs": [
    {
     "data": {
      "text/plain": [
       "float"
      ]
     },
     "execution_count": 13,
     "metadata": {},
     "output_type": "execute_result"
    }
   ],
   "source": [
    "type(2.5)"
   ]
  },
  {
   "cell_type": "code",
   "execution_count": 14,
   "metadata": {},
   "outputs": [
    {
     "data": {
      "text/plain": [
       "str"
      ]
     },
     "execution_count": 14,
     "metadata": {},
     "output_type": "execute_result"
    }
   ],
   "source": [
    "type(\"hello world\")"
   ]
  },
  {
   "cell_type": "code",
   "execution_count": 1,
   "metadata": {},
   "outputs": [
    {
     "data": {
      "text/plain": [
       "str"
      ]
     },
     "execution_count": 1,
     "metadata": {},
     "output_type": "execute_result"
    }
   ],
   "source": [
    "# what will be the type of '5'\n",
    "type('5') # str"
   ]
  },
  {
   "cell_type": "code",
   "execution_count": 2,
   "metadata": {},
   "outputs": [
    {
     "data": {
      "text/plain": [
       "float"
      ]
     },
     "execution_count": 2,
     "metadata": {},
     "output_type": "execute_result"
    }
   ],
   "source": [
    "# what is type of 9.3333333333\n",
    "type(9.333333333) #float"
   ]
  },
  {
   "cell_type": "code",
   "execution_count": 36,
   "metadata": {},
   "outputs": [
    {
     "name": "stdout",
     "output_type": "stream",
     "text": [
      "<class 'tuple'>\n",
      "<class 'dict'>\n",
      "<class 'list'>\n"
     ]
    }
   ],
   "source": [
    "#print the type of (), [], {} \n",
    "print(type(()))\n",
    "print(type({}))\n",
    "print(type([]))"
   ]
  },
  {
   "cell_type": "code",
   "execution_count": 38,
   "metadata": {},
   "outputs": [
    {
     "data": {
      "text/plain": [
       "range"
      ]
     },
     "execution_count": 38,
     "metadata": {},
     "output_type": "execute_result"
    }
   ],
   "source": [
    "# what is output of type(range(5))\n",
    "type(range(5)) \n",
    "\n",
    "# range is the output"
   ]
  },
  {
   "cell_type": "markdown",
   "metadata": {},
   "source": [
    "# 4. Variable"
   ]
  },
  {
   "cell_type": "markdown",
   "metadata": {},
   "source": [
    "One of the most powerful features of a programming language is the ability to\n",
    "manipulate variables. \n",
    "\n",
    "A variable is a name that refers to a value.\n",
    "\n",
    "Variables names are case sensitive"
   ]
  },
  {
   "cell_type": "code",
   "execution_count": 40,
   "metadata": {},
   "outputs": [],
   "source": [
    "# An assignment statement creates new variables and gives them values:\n",
    "name = \"Ahmed\"\n",
    "age = 20\n",
    "height = 3.5"
   ]
  },
  {
   "cell_type": "markdown",
   "metadata": {},
   "source": [
    "This example makes three assignments, first assign \"Ahmed\" to name variable, second assign 20 to age and 3.5 to height"
   ]
  },
  {
   "cell_type": "code",
   "execution_count": 41,
   "metadata": {},
   "outputs": [
    {
     "name": "stdout",
     "output_type": "stream",
     "text": [
      "Ahmed\n"
     ]
    }
   ],
   "source": [
    "# to print the name you can use print statement\n",
    "print(name)"
   ]
  },
  {
   "cell_type": "code",
   "execution_count": 42,
   "metadata": {},
   "outputs": [
    {
     "name": "stdout",
     "output_type": "stream",
     "text": [
      "20 3.5\n"
     ]
    }
   ],
   "source": [
    "# print the values of age and height\n",
    "print(age, height)"
   ]
  },
  {
   "cell_type": "code",
   "execution_count": 43,
   "metadata": {},
   "outputs": [
    {
     "name": "stdout",
     "output_type": "stream",
     "text": [
      "Ahmed 20 3.5\n"
     ]
    }
   ],
   "source": [
    "# print all three values using single print statement\n",
    "print(name, age, height)"
   ]
  },
  {
   "cell_type": "code",
   "execution_count": 47,
   "metadata": {},
   "outputs": [
    {
     "name": "stdout",
     "output_type": "stream",
     "text": [
      "1 0 0\n",
      "1000000 1000000\n"
     ]
    }
   ],
   "source": [
    "# What will happen if you print 1 million using following statement\n",
    "print(1,000,000)\n",
    "# now search out the way to print 1 million and try it out\n",
    "print(1000000, 1_000_000)"
   ]
  },
  {
   "cell_type": "code",
   "execution_count": 48,
   "metadata": {},
   "outputs": [
    {
     "name": "stdout",
     "output_type": "stream",
     "text": [
      "10 20 30\n"
     ]
    }
   ],
   "source": [
    "# Store three integers in x,y,z and print them using single print statement.\n",
    "x = 10\n",
    "y = 20\n",
    "z = 30 \n",
    "print(x,y,z)"
   ]
  },
  {
   "cell_type": "code",
   "execution_count": 50,
   "metadata": {},
   "outputs": [
    {
     "name": "stdout",
     "output_type": "stream",
     "text": [
      "121.25\n"
     ]
    }
   ],
   "source": [
    "var1 = 121.25\n",
    "# print type of var1\n",
    "\n",
    "print(var1)"
   ]
  },
  {
   "cell_type": "markdown",
   "metadata": {},
   "source": [
    "# 5. Variable names and keywords"
   ]
  },
  {
   "cell_type": "raw",
   "metadata": {},
   "source": [
    "Variable names can be arbitrarily long. \n",
    "They can contain both letters and numbers,but they have to begin with a letter.\n",
    "The underscore character (_) can appear in a name.\n",
    "Variable names can start with an underscore character, but we generally avoid using it unles\n",
    "we are writing library code for others to use."
   ]
  },
  {
   "cell_type": "code",
   "execution_count": 51,
   "metadata": {},
   "outputs": [],
   "source": [
    "#what will happen\n",
    "#47name = 'Pakistan'\n",
    "#name@ = 'Pakistan'\n",
    "#class = 'Pakistan'\n",
    "#myname = 'kamran'\n",
    "#first_val = 10\n",
    "#string = 'abc'"
   ]
  },
  {
   "cell_type": "raw",
   "metadata": {},
   "source": [
    "47name = 'Pakistan'\n",
    "# Error, becuase variable name cannot begin with digit\n",
    "\n",
    "name@ = 'Pakistan'\n",
    "# Error, becuase variable name cannot have @ simple\n",
    "\n",
    "class = 'Pakistan'\n",
    "# Error, becuase class is a keyword in python\n",
    "\n",
    "myname = 'kamran'\n",
    "# Correct name.\n",
    "\n",
    "first_val = 10\n",
    "# Correct Name.\n",
    "\n",
    "string = 'abc'\n",
    "# Correct Name."
   ]
  },
  {
   "cell_type": "markdown",
   "metadata": {},
   "source": [
    "# 6. Statements"
   ]
  },
  {
   "cell_type": "raw",
   "metadata": {},
   "source": [
    "A statement is a unit of code that the Python interpreter can execute.\n",
    "We have seen two kinds of statements: print and assignment."
   ]
  },
  {
   "cell_type": "markdown",
   "metadata": {},
   "source": [
    "# 7. Operators and operands"
   ]
  },
  {
   "cell_type": "code",
   "execution_count": null,
   "metadata": {
    "collapsed": true
   },
   "outputs": [],
   "source": []
  },
  {
   "cell_type": "raw",
   "metadata": {},
   "source": [
    "Operators are special symbols that represent computations like addition and multiplication.\n",
    "The values the operator is applied to are called operands."
   ]
  },
  {
   "cell_type": "code",
   "execution_count": null,
   "metadata": {},
   "outputs": [],
   "source": [
    "# The operators +, -, *, / and ** perform addition, subtraction, multiplication, division,\n",
    "# exponentiation and modulus operator as in the following examples:\n",
    "print (20+32, 3-1, 4*5 , 12/6,  5**2, 13%5)"
   ]
  },
  {
   "cell_type": "code",
   "execution_count": 52,
   "metadata": {},
   "outputs": [
    {
     "name": "stdout",
     "output_type": "stream",
     "text": [
      "90\n"
     ]
    }
   ],
   "source": [
    "# print 200+323-433\n",
    "print(200+323-433)"
   ]
  },
  {
   "cell_type": "code",
   "execution_count": 55,
   "metadata": {},
   "outputs": [
    {
     "name": "stdout",
     "output_type": "stream",
     "text": [
      "6\n"
     ]
    }
   ],
   "source": [
    "# print (2+1)*(8-6)\n",
    "print((2+1) * (8-6))"
   ]
  },
  {
   "cell_type": "code",
   "execution_count": 56,
   "metadata": {},
   "outputs": [
    {
     "name": "stdout",
     "output_type": "stream",
     "text": [
      "1024\n"
     ]
    }
   ],
   "source": [
    "# print no of bytes in 1KB using exponentiation operator\n",
    "print(2**10)"
   ]
  },
  {
   "cell_type": "code",
   "execution_count": 57,
   "metadata": {},
   "outputs": [
    {
     "name": "stdout",
     "output_type": "stream",
     "text": [
      "216\n"
     ]
    }
   ],
   "source": [
    "# print(2*3**3*4)\n",
    "print(2*3**3*4)"
   ]
  },
  {
   "cell_type": "markdown",
   "metadata": {},
   "source": [
    "# 8. Expressions"
   ]
  },
  {
   "cell_type": "raw",
   "metadata": {},
   "source": [
    "An expression is a combination of values, variables, and operators."
   ]
  },
  {
   "cell_type": "raw",
   "metadata": {},
   "source": [
    "Assignement: type the following statements in the Python interpreter to see what\n",
    "they do:\n",
    "5\n",
    "x = 5\n",
    "x + 1"
   ]
  },
  {
   "cell_type": "code",
   "execution_count": 58,
   "metadata": {},
   "outputs": [
    {
     "data": {
      "text/plain": [
       "6"
      ]
     },
     "execution_count": 58,
     "metadata": {},
     "output_type": "execute_result"
    }
   ],
   "source": [
    "# execute the following statements and see the output\n",
    "5\n",
    "x = 5\n",
    "x + 1"
   ]
  },
  {
   "cell_type": "code",
   "execution_count": 68,
   "metadata": {},
   "outputs": [
    {
     "ename": "SyntaxError",
     "evalue": "invalid syntax (3545836511.py, line 3)",
     "output_type": "error",
     "traceback": [
      "\u001b[1;36m  Cell \u001b[1;32mIn[68], line 3\u001b[1;36m\u001b[0m\n\u001b[1;33m    x = y += 2\u001b[0m\n\u001b[1;37m          ^\u001b[0m\n\u001b[1;31mSyntaxError\u001b[0m\u001b[1;31m:\u001b[0m invalid syntax\n"
     ]
    }
   ],
   "source": [
    "# what is output of\n",
    "y = 10\n",
    "x = y += 2\n",
    "print(x)\n",
    "\n",
    "# ERror"
   ]
  },
  {
   "cell_type": "code",
   "execution_count": 69,
   "metadata": {},
   "outputs": [
    {
     "name": "stdout",
     "output_type": "stream",
     "text": [
      "60 6000\n"
     ]
    }
   ],
   "source": [
    "# Store three integers in x,y,z and print their sum and product.\n",
    "x = 10\n",
    "y = 20\n",
    "z = 30\n",
    "\n",
    "print(x+y+z, x*y*z)"
   ]
  },
  {
   "cell_type": "markdown",
   "metadata": {},
   "source": [
    "# 9. Order of operations"
   ]
  },
  {
   "cell_type": "raw",
   "metadata": {},
   "source": [
    "When more than one operator appears in an expression, the order of evaluation\n",
    "depends on the rules of precedence. \n",
    "For mathematical operators, Python follows mathematical convention. \n",
    "The acronym PEMDAS is a useful way to remember the rules:\n",
    "1. Parentheses\n",
    "2. Exponentiation\n",
    "3. Multiplication and Division\n",
    "4. Addition and Subtraction\n",
    "Operators with the same precedence are evaluated from left to right.\n",
    "    "
   ]
  },
  {
   "cell_type": "code",
   "execution_count": null,
   "metadata": {
    "collapsed": true
   },
   "outputs": [],
   "source": [
    "# write output of the following commands without excuting it\n",
    "# print (2*(3-1))\n",
    "4\n",
    "\n",
    "# print ((1+1)**(5-2))\n",
    "8\n",
    "\n",
    "# print (2**1+1)\n",
    "4\n",
    "\n",
    "# print (3*1**3)\n",
    "3\n"
   ]
  },
  {
   "cell_type": "markdown",
   "metadata": {},
   "source": [
    "# 10. String operations"
   ]
  },
  {
   "cell_type": "code",
   "execution_count": 56,
   "metadata": {},
   "outputs": [
    {
     "name": "stdout",
     "output_type": "stream",
     "text": [
      "30\n"
     ]
    }
   ],
   "source": [
    "first = 10\n",
    "second = 20\n",
    "print (first + second)"
   ]
  },
  {
   "cell_type": "code",
   "execution_count": 57,
   "metadata": {},
   "outputs": [
    {
     "name": "stdout",
     "output_type": "stream",
     "text": [
      "1020\n"
     ]
    }
   ],
   "source": [
    "first = '10'\n",
    "second = '20'\n",
    "print (first + second)"
   ]
  },
  {
   "cell_type": "code",
   "execution_count": 58,
   "metadata": {},
   "outputs": [
    {
     "name": "stdout",
     "output_type": "stream",
     "text": [
      "hellohellohello\n"
     ]
    }
   ],
   "source": [
    "print (\"hello\" * 3 )"
   ]
  },
  {
   "cell_type": "code",
   "execution_count": 83,
   "metadata": {},
   "outputs": [
    {
     "name": "stdout",
     "output_type": "stream",
     "text": [
      "KhuzaimaKhuzaimaKhuzaimaKhuzaimaKhuzaimaKhuzaimaKhuzaimaKhuzaimaKhuzaimaKhuzaima\n"
     ]
    }
   ],
   "source": [
    "# print your name 10 times\n",
    "print(\"Khuzaima\" * 10)"
   ]
  },
  {
   "cell_type": "code",
   "execution_count": null,
   "metadata": {},
   "outputs": [],
   "source": [
    "# What is output of var=\"James\"*2*3\n",
    "JamesJamesJamesJamesJamesJames"
   ]
  },
  {
   "cell_type": "markdown",
   "metadata": {},
   "source": [
    "# 11. Asking the user for input"
   ]
  },
  {
   "cell_type": "code",
   "execution_count": 64,
   "metadata": {},
   "outputs": [
    {
     "name": "stdout",
     "output_type": "stream",
     "text": [
      "please enter name: aqs\n",
      "aqs\n"
     ]
    }
   ],
   "source": [
    "name = input(\"please enter name: \")\n",
    "print (name)"
   ]
  },
  {
   "cell_type": "code",
   "execution_count": 72,
   "metadata": {},
   "outputs": [
    {
     "name": "stdout",
     "output_type": "stream",
     "text": [
      "Please enter your age : 21\n",
      "212121\n"
     ]
    }
   ],
   "source": [
    "# wirte a program which take age from user and concate it three time\n",
    "age = input(\"Please enter your age : \")\n",
    "print (age * 3)"
   ]
  },
  {
   "cell_type": "code",
   "execution_count": 73,
   "metadata": {},
   "outputs": [
    {
     "name": "stdout",
     "output_type": "stream",
     "text": [
      "Enter number 1: 2\n",
      "Enter number 2: 3\n",
      "6\n"
     ]
    }
   ],
   "source": [
    "# Write a program to accept two numbers from the user and calculate multiplication.\n",
    "x = int(input(\"Enter number 1: \"))\n",
    "y = int(input(\"Enter number 2: \"))\n",
    "z = x*y\n",
    "print(z)"
   ]
  },
  {
   "cell_type": "code",
   "execution_count": 74,
   "metadata": {},
   "outputs": [
    {
     "name": "stdout",
     "output_type": "stream",
     "text": [
      "121212\n"
     ]
    }
   ],
   "source": [
    "# modify this code so that it prints 121212 instead of 36\n",
    "age='12'\n",
    "print(age*3)"
   ]
  },
  {
   "cell_type": "markdown",
   "metadata": {},
   "source": [
    "# 12. Type Casting"
   ]
  },
  {
   "cell_type": "code",
   "execution_count": 72,
   "metadata": {},
   "outputs": [
    {
     "name": "stdout",
     "output_type": "stream",
     "text": [
      "10\n"
     ]
    }
   ],
   "source": [
    "a = '10'\n",
    "print (a)"
   ]
  },
  {
   "cell_type": "code",
   "execution_count": 76,
   "metadata": {},
   "outputs": [],
   "source": [
    "#int(a)\n",
    "#str(a)"
   ]
  },
  {
   "cell_type": "code",
   "execution_count": 79,
   "metadata": {},
   "outputs": [
    {
     "name": "stdout",
     "output_type": "stream",
     "text": [
      "Enter a number : 10\n",
      "RESULT :  150\n"
     ]
    }
   ],
   "source": [
    "# take an integer from user and multiply it with 15\n",
    "num = int(input(\"Enter a number : \"))\n",
    "res = num * 15\n",
    "print(\"RESULT : \",res)"
   ]
  },
  {
   "cell_type": "code",
   "execution_count": 82,
   "metadata": {},
   "outputs": [
    {
     "name": "stdout",
     "output_type": "stream",
     "text": [
      "579\n"
     ]
    }
   ],
   "source": [
    "num_int = 123\n",
    "num_str = \"456\"\n",
    "# Find the sum of these 2 variables\n",
    "\n",
    "print(num_int + int(num_str))\n",
    "#If we don't typecast, then error occurs"
   ]
  },
  {
   "cell_type": "markdown",
   "metadata": {},
   "source": [
    "# 13. Comments"
   ]
  },
  {
   "cell_type": "code",
   "execution_count": null,
   "metadata": {
    "collapsed": true
   },
   "outputs": [],
   "source": [
    "# here is comments\n",
    "# HERE IS ANOTHER COMMENT"
   ]
  },
  {
   "cell_type": "markdown",
   "metadata": {},
   "source": [
    "# Exercise"
   ]
  },
  {
   "cell_type": "raw",
   "metadata": {},
   "source": [
    "Write a program that uses raw_input to prompt a user for their name and then welcomes them.\n",
    "\n",
    "Enter your name: Chuck\n",
    "Hello Chuck"
   ]
  },
  {
   "cell_type": "code",
   "execution_count": 84,
   "metadata": {},
   "outputs": [
    {
     "name": "stdout",
     "output_type": "stream",
     "text": [
      "Enter your name: Khuzaima\n",
      "Hello Khuzaima\n"
     ]
    }
   ],
   "source": [
    "name = input(\"Enter your name: \")\n",
    "print(\"Hello {}\".format(name))"
   ]
  },
  {
   "cell_type": "raw",
   "metadata": {},
   "source": [
    "Write a program to prompt the user for hours and rate per hour to\n",
    "compute gross pay.\n",
    "\n",
    "Enter Hours: 35\n",
    "Enter Rate: 2.75\n",
    "Pay: 96.25"
   ]
  },
  {
   "cell_type": "code",
   "execution_count": 88,
   "metadata": {},
   "outputs": [
    {
     "name": "stdout",
     "output_type": "stream",
     "text": [
      "Enter Hours: 35\n",
      "Enter Rate: 2.75\n",
      "Pay: 96.25\n"
     ]
    }
   ],
   "source": [
    "hours = int(input(\"Enter Hours: \"))\n",
    "rate = float(input(\"Enter Rate: \"))\n",
    "pay = hours * rate\n",
    "print(\"Pay: {}\".format(pay))"
   ]
  },
  {
   "cell_type": "raw",
   "metadata": {},
   "source": [
    "Assume that we execute the following assignment statements:\n",
    "width = 17\n",
    "height = 12.0\n",
    "\n",
    "For each of the following expressions, write the value of the expression and the\n",
    "type (of the value of the expression).\n",
    "\n",
    "1. width/2\n",
    "2. width/2.0\n",
    "3. height/3\n",
    "4. 1 + 2 * 5\n",
    "\n",
    "Use the Python interpreter to check your answers."
   ]
  },
  {
   "cell_type": "code",
   "execution_count": 90,
   "metadata": {},
   "outputs": [
    {
     "name": "stdout",
     "output_type": "stream",
     "text": [
      "Expression 1 \n",
      "Value: 8.5, Type: <class 'float'>\n",
      "\n",
      "Expression 2 \n",
      "Value: 8.5, Type: <class 'float'>\n",
      "\n",
      "Expression 3 \n",
      "Value: 4.0, Type: <class 'float'>\n",
      "\n",
      "Expression 4 \n",
      "Value: 11, Type: <class 'int'>\n",
      "\n"
     ]
    }
   ],
   "source": [
    "width = 17\n",
    "height = 12.0\n",
    "\n",
    "exp_1 = width/2\n",
    "exp_2 = width/2.0\n",
    "exp_3 = height/3\n",
    "exp_4 = 1 + 2 * 5\n",
    "\n",
    "print(\"Expression 1 \\nValue: {}, Type: {}\\n\".format(exp_1, type(exp_1)))\n",
    "print(\"Expression 2 \\nValue: {}, Type: {}\\n\".format(exp_2, type(exp_2)))\n",
    "print(\"Expression 3 \\nValue: {}, Type: {}\\n\".format(exp_3, type(exp_3)))\n",
    "print(\"Expression 4 \\nValue: {}, Type: {}\\n\".format(exp_4, type(exp_4)))"
   ]
  },
  {
   "cell_type": "raw",
   "metadata": {},
   "source": [
    "Write a program which prompts the user for a Celsius temperature,\n",
    "convert the temperature to Fahrenheit and print out the converted temperature."
   ]
  },
  {
   "cell_type": "code",
   "execution_count": 91,
   "metadata": {},
   "outputs": [
    {
     "name": "stdout",
     "output_type": "stream",
     "text": [
      "Enter Temperature in Celcius: 37\n",
      "Temperature in Fahrenheit: 98.60000000000001\n"
     ]
    }
   ],
   "source": [
    "temp_c = int(input(\"Enter Temperature in Celcius: \"))\n",
    "temp_f = (temp_c * 1.8) + 32\n",
    "print(\"Temperature in Fahrenheit: {}\".format(temp_f))"
   ]
  },
  {
   "cell_type": "code",
   "execution_count": null,
   "metadata": {},
   "outputs": [],
   "source": []
  }
 ],
 "metadata": {
  "kernelspec": {
   "display_name": "Python 3 (ipykernel)",
   "language": "python",
   "name": "python3"
  },
  "language_info": {
   "codemirror_mode": {
    "name": "ipython",
    "version": 3
   },
   "file_extension": ".py",
   "mimetype": "text/x-python",
   "name": "python",
   "nbconvert_exporter": "python",
   "pygments_lexer": "ipython3",
   "version": "3.10.9"
  },
  "vscode": {
   "interpreter": {
    "hash": "cf877e899ade189e092f419ed6500768233ef45bf03c1569485e8f982cec4187"
   }
  }
 },
 "nbformat": 4,
 "nbformat_minor": 2
}
