{
 "cells": [
  {
   "cell_type": "markdown",
   "metadata": {},
   "source": [
    "# K Mean Clustering "
   ]
  },
  {
   "cell_type": "markdown",
   "metadata": {},
   "source": [
    "### Import the libraries"
   ]
  },
  {
   "cell_type": "code",
   "execution_count": null,
   "metadata": {},
   "outputs": [],
   "source": [
    "import numpy as np\n",
    "import cv2 as cv\n",
    "from matplotlib import pyplot as plt\n",
    "from PIL import Image\n",
    "from IPython.display import display, HTML"
   ]
  },
  {
   "cell_type": "markdown",
   "metadata": {},
   "source": [
    "### Sapmle Input Data vizualization"
   ]
  },
  {
   "cell_type": "code",
   "execution_count": null,
   "metadata": {},
   "outputs": [],
   "source": [
    "image_filenames = ['1.jpg', '2.jpg', '3.jpg']\n",
    "\n",
    "# Open and display each image\n",
    "for filename in image_filenames:\n",
    "    # Open the image using PIL\n",
    "    image = Image.open(filename)\n",
    "\n",
    "    # Define the desired width for the resized image\n",
    "    desired_width = 250\n",
    "\n",
    "    # Calculate the new height while maintaining the aspect ratio\n",
    "    aspect_ratio = float(image.size[1]) / float(image.size[0])\n",
    "    desired_height = int(aspect_ratio * desired_width)\n",
    "\n",
    "    # Resize the image\n",
    "    resized_image = image.resize((desired_width, desired_height))\n",
    "\n",
    "    # Display the resized image\n",
    "    display(resized_image)\n"
   ]
  },
  {
   "cell_type": "markdown",
   "metadata": {},
   "source": [
    "### Read the images"
   ]
  },
  {
   "cell_type": "code",
   "execution_count": null,
   "metadata": {},
   "outputs": [],
   "source": [
    "#________________This code is for getting information of images(No editing needed)_______________________\n",
    "\n",
    "\n",
    "\n",
    "input_img_1_info = cv.imread('1.jpg')\n",
    "input_img_2_info = cv.imread('2.jpg')\n",
    "input_img_3_info = cv.imread('3.jpg')\n",
    "\n",
    "#Converting BGR to RGB(OpenCV uses BGR format by default)__You can skip this step if you are using PIL to load images\n",
    "input_img_1 = cv.cvtColor(input_img_1_info, cv.COLOR_BGR2RGB)\n",
    "input_img_2 = cv.cvtColor(input_img_2_info, cv.COLOR_BGR2RGB)\n",
    "input_img_3 = cv.cvtColor(input_img_3_info, cv.COLOR_BGR2RGB)\n",
    "\n",
    "\n",
    "#______________RESIZE IMAGES HERE IF NEEDED_______________________\n",
    "scaling_factor = 0.3  # Adjust this value to change the size of the shrunk images\n",
    "#your code here depending on the library you are using\n",
    "\n",
    "\n",
    "\n",
    "#______________RESIZE IMAGES HERE IF NEEDED_______________________\n",
    "\n",
    "#Information of images\n",
    "print(\"shapes of images:\")\n",
    "print('Image 1: ', input_img_1_info.shape)\n",
    "print('Image 2: ', input_img_2_info.shape)\n",
    "print('Image 3: ', input_img_3_info.shape)\n",
    "\n",
    "#__________You can use PIL to load images which use RGB format by default_____________________\n",
    "# BUT you wont be able to get information of images as given by cv2\n",
    " \n",
    "# input_img_1 = Image.open('1.jpg')\n",
    "# input_img_2 = Image.open('2.jpg')\n",
    "# input_img_3 = Image.open('3.jpg')\n",
    "# print(\"sizes of images:\")\n",
    "# print('Image 1: ', input_img_1.size)\n",
    "# print('Image 2: ', input_img_2.size)\n",
    "# print('Image 3: ', input_img_3.size)\n",
    "\n",
    "\n"
   ]
  },
  {
   "cell_type": "markdown",
   "metadata": {},
   "source": [
    "Expexted Output: <br>\n",
    "shapes of images: <br>\n",
    "Image 1:  (744, 750, 3) <br>\n",
    "Image 2:  (533, 800, 3)<br>\n",
    "Image 3:  (393, 700, 3)"
   ]
  },
  {
   "cell_type": "markdown",
   "metadata": {},
   "source": [
    "### Understanding the data"
   ]
  },
  {
   "cell_type": "code",
   "execution_count": null,
   "metadata": {},
   "outputs": [],
   "source": [
    "#printing the first row of the image\n",
    "print(\"Image 1 : ROW1:\")\n",
    "print(input_img_1_info[0].shape)\n",
    "print(input_img_1_info[0])\n",
    "type(input_img_1_info)"
   ]
  },
  {
   "cell_type": "markdown",
   "metadata": {},
   "source": [
    "### Preprocessing the data"
   ]
  },
  {
   "cell_type": "code",
   "execution_count": null,
   "metadata": {},
   "outputs": [],
   "source": [
    "#_____________You will need this piece of code if you are using PIL to load images_____________________\n",
    "# Cuz Cv2 make use of numpy array to store images and PIL uses Image object to store images\n",
    "\n",
    "# input_img_1 = np.array(input_img_1)\n",
    "# print(f\"input_img_1.shape: {input_img_1.shape}\")\n",
    "\n",
    "# input_img_2 = np.array(input_img_2)\n",
    "# print(f\"input_img_2.shape: {input_img_2.shape}\")\n",
    "\n",
    "# input_img_3 = np.array(input_img_3)\n",
    "# print(f\"input_img_3.shape: {input_img_3.shape}\")\n",
    "\n"
   ]
  },
  {
   "cell_type": "code",
   "execution_count": null,
   "metadata": {},
   "outputs": [],
   "source": [
    "#_________________This code will need your attention to run properly____________\n",
    "\n",
    "#convert the image 1 to 2D array\n",
    "input_img_1_2d = \n",
    "print(\"Image 1 : 2D array:\")\n",
    "print(input_img_1_2d.shape)\n",
    "\n",
    "#convert the image 2 to 2D array\n",
    "input_img_2_2d = \n",
    "print(\"Image 2 : 2D array:\")\n",
    "print(input_img_2_2d.shape)\n",
    "\n",
    "#convert the image 3 to 2D array\n",
    "input_img_3_2d = \n",
    "print(\"Image 3 : 2D array:\")\n",
    "print(input_img_3_2d.shape)\n",
    "\n",
    "\n"
   ]
  },
  {
   "cell_type": "markdown",
   "metadata": {},
   "source": [
    "##### Expected Output\n",
    "\n",
    "Image 1 : 2D array:\n",
    "(558000, 3) <br>\n",
    "Image 2 : 2D array:\n",
    "(426400, 3) <br>\n",
    "Image 3 : 2D array:\n",
    "(275100, 3) <br>"
   ]
  },
  {
   "cell_type": "markdown",
   "metadata": {},
   "source": [
    "### Implimentation of K-Mean Clustering"
   ]
  },
  {
   "cell_type": "markdown",
   "metadata": {},
   "source": [
    "#### Helper Funtions"
   ]
  },
  {
   "cell_type": "code",
   "execution_count": null,
   "metadata": {},
   "outputs": [],
   "source": [
    "#your code here\n",
    "\n",
    "\n",
    "\n"
   ]
  },
  {
   "cell_type": "code",
   "execution_count": null,
   "metadata": {},
   "outputs": [],
   "source": [
    "#your code here\n",
    "\n",
    "\n"
   ]
  },
  {
   "cell_type": "code",
   "execution_count": null,
   "metadata": {},
   "outputs": [],
   "source": [
    "#your code here\n",
    "\n",
    "\n"
   ]
  },
  {
   "cell_type": "markdown",
   "metadata": {},
   "source": [
    "#### Mian Function"
   ]
  },
  {
   "cell_type": "code",
   "execution_count": null,
   "metadata": {},
   "outputs": [],
   "source": [
    "#_________________This code will need your attention to run properly____________\n",
    "#your code here\n",
    "\n",
    "def kmeans_clustering(data, k, max_iterations=100):\n",
    "        \n",
    "    # Randomly initialize centroids\n",
    "    #call the helper function here of random_centroids_initializer\n",
    "\n",
    "\n",
    "    for _ in range(max_iterations):\n",
    "\n",
    "        # Assign each data point to the nearest centroid\n",
    "        #call the helper function here of assign_data_points_to_nearest_centroid\n",
    "\n",
    "\n",
    "\n",
    "\n",
    "        # Update centroids by taking the mean of the assigned data points\n",
    "        #call the helper function here of update_centroids_by_Manhattan_distance(absolute distance)\n",
    "\n",
    "\n",
    "        \n",
    "\n",
    "        # Check convergence\n",
    "\n",
    "\n",
    "    #Upadte centroids to the latest centroids\n",
    "\n",
    "    return labels, centroids\n",
    "\n"
   ]
  },
  {
   "cell_type": "markdown",
   "metadata": {},
   "source": [
    "#### Verification of the output"
   ]
  },
  {
   "cell_type": "code",
   "execution_count": null,
   "metadata": {},
   "outputs": [],
   "source": [
    "# chanage the value of  to match your output with given output\n",
    "image = input_img_3_2d\n",
    "k = 2\n",
    "labels, centroids = kmeans_clustering(image, k)\n",
    "print('k', k)\n",
    "print('unique labels',np.unique(labels))\n",
    "print('Labels shape: ', labels.shape)\n",
    "print('Centroids shape: ', centroids.shape)\n",
    "print('centroids',centroids)"
   ]
  },
  {
   "cell_type": "markdown",
   "metadata": {},
   "source": [
    "#### Expected Output\n",
    "Note : The output will vary if you use diffrent distance metric or reduced size of the image.\n",
    "\n",
    "For input_image_1: <br>\n",
    "<hr>\n",
    "\n",
    "- k 2\n",
    "- unique labels [0 1]\n",
    "- Labels shape:  (558000,)\n",
    "- Centroids shape:  (2, 3)\n",
    "> [[ 98.15321625  72.44336854  63.15206393] <br>\n",
    "      [182.32910336 168.23132632 150.00980018]]\n",
    "<hr>\n",
    "\n",
    "For input_image_2: <br>\n",
    "\n",
    "- k 2\n",
    "- unique labels [0 1]\n",
    "- Labels shape:  (426400,)\n",
    "- Centroids shape:  (2, 3)\n",
    "> centroids [[226.34647018 223.46249381 220.90380275] <br>\n",
    " [193.99718075 161.61216588 146.87529588]]\n",
    "\n",
    " <hr>\n",
    " For input_image_1: <br>\n",
    "\n",
    "- k 2\n",
    "- unique labels [0 1]\n",
    "- Labels shape:  (275100,)\n",
    "- Centroids shape:  (2, 3)\n",
    "> centroids [[118.32229891 158.51120919 238.83084683] <br>\n",
    "      [ 79.00552162 107.03481755  28.29886674]]"
   ]
  },
  {
   "cell_type": "markdown",
   "metadata": {},
   "source": [
    "## BATCH RUN"
   ]
  },
  {
   "cell_type": "markdown",
   "metadata": {},
   "source": [
    "### K-Mean Clustering on the all images"
   ]
  },
  {
   "cell_type": "markdown",
   "metadata": {},
   "source": [
    "NOTE: IF YOUR CODE IS TAKING TOO MUCH TIME TO RUN, TRY RESIZE THE IMAGE TO SMALLER SIZE "
   ]
  },
  {
   "cell_type": "code",
   "execution_count": null,
   "metadata": {},
   "outputs": [],
   "source": [
    "k_values = [2, 5, 10,20]\n",
    "images = [input_img_1_2d, input_img_2_2d, input_img_3_2d]\n",
    "org_images = [input_img_1, input_img_2, input_img_3]\n",
    "\n",
    "for i, (image, org_image) in enumerate(zip(images, org_images)):\n",
    "    for k in k_values:\n",
    "        labels, centroids = kmeans_clustering(image, k)\n",
    "        # Replace pixel values with centroid values\n",
    "        new_image_data = centroids[labels].reshape(org_image.shape)\n",
    "        # Convert the data back to image format\n",
    "        new_image = Image.fromarray(new_image_data.astype(np.uint8))\n",
    "        # Display the new image\n",
    "        display(HTML(f'<h2>Clustered Image of input {i+1} (k={k})</h2>'))\n",
    "        display(new_image)\n"
   ]
  },
  {
   "cell_type": "markdown",
   "metadata": {},
   "source": [
    "### Expected Output\n",
    "\n",
    "\n",
    "![Example Image](1.O.jpg)\n",
    "![Example Image](2.O.jpg)\n",
    "![Example Image](3.O.jpg)\n"
   ]
  }
 ],
 "metadata": {
  "kernelspec": {
   "display_name": "Python 3 (ipykernel)",
   "language": "python",
   "name": "python3"
  },
  "language_info": {
   "codemirror_mode": {
    "name": "ipython",
    "version": 3
   },
   "file_extension": ".py",
   "mimetype": "text/x-python",
   "name": "python",
   "nbconvert_exporter": "python",
   "pygments_lexer": "ipython3",
   "version": "3.10.9"
  }
 },
 "nbformat": 4,
 "nbformat_minor": 2
}
